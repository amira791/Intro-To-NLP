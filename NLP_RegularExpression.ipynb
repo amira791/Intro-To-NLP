{
 "cells": [
  {
   "cell_type": "code",
   "execution_count": 31,
   "id": "f662786a",
   "metadata": {},
   "outputs": [],
   "source": [
    "import re"
   ]
  },
  {
   "cell_type": "code",
   "execution_count": 32,
   "id": "665a4899",
   "metadata": {},
   "outputs": [
    {
     "name": "stdout",
     "output_type": "stream",
     "text": [
      "C:\\Users\\DELL\\Desktop\\nlp\n"
     ]
    }
   ],
   "source": [
    "my_folder = r\"C:\\Users\\DELL\\Desktop\\nlp\"\n",
    "print(my_folder)"
   ]
  },
  {
   "cell_type": "code",
   "execution_count": 33,
   "id": "cb47e044",
   "metadata": {},
   "outputs": [],
   "source": [
    "result_search = re.search(\"pattern\", r\"this is a string that contain pattern\")"
   ]
  },
  {
   "cell_type": "code",
   "execution_count": 34,
   "id": "c11cf1f7",
   "metadata": {},
   "outputs": [
    {
     "name": "stdout",
     "output_type": "stream",
     "text": [
      "<re.Match object; span=(30, 37), match='pattern'>\n"
     ]
    }
   ],
   "source": [
    "print(result_search)"
   ]
  },
  {
   "cell_type": "code",
   "execution_count": 35,
   "id": "e2b6ccbf",
   "metadata": {},
   "outputs": [],
   "source": [
    "result_search = re.search(\"Amira\", r\"Hi i'm Ali\")"
   ]
  },
  {
   "cell_type": "code",
   "execution_count": 36,
   "id": "dbff7e8f",
   "metadata": {},
   "outputs": [
    {
     "name": "stdout",
     "output_type": "stream",
     "text": [
      "None\n"
     ]
    }
   ],
   "source": [
    "print(result_search)"
   ]
  },
  {
   "cell_type": "code",
   "execution_count": 37,
   "id": "5abbf839",
   "metadata": {},
   "outputs": [],
   "source": [
    "string = r\"ali is so clever\""
   ]
  },
  {
   "cell_type": "code",
   "execution_count": 38,
   "id": "5c907833",
   "metadata": {},
   "outputs": [],
   "source": [
    "new_string = re.sub(\"ali\", \"amira\", string)"
   ]
  },
  {
   "cell_type": "code",
   "execution_count": 39,
   "id": "ac49f8db",
   "metadata": {},
   "outputs": [
    {
     "name": "stdout",
     "output_type": "stream",
     "text": [
      "amira is so clever\n"
     ]
    }
   ],
   "source": [
    "print(new_string)"
   ]
  },
  {
   "cell_type": "code",
   "execution_count": 40,
   "id": "9dbc4a85",
   "metadata": {},
   "outputs": [],
   "source": [
    "customer_reviews = [\"ali like it\", \"hicham love it\", \"imene hate it\"]"
   ]
  },
  {
   "cell_type": "code",
   "execution_count": 41,
   "id": "c637a885",
   "metadata": {},
   "outputs": [],
   "source": [
    "imene_reviews = []"
   ]
  },
  {
   "cell_type": "code",
   "execution_count": 42,
   "id": "d7a2b6d3",
   "metadata": {},
   "outputs": [],
   "source": [
    "pattern_to_find = r\"imene\""
   ]
  },
  {
   "cell_type": "code",
   "execution_count": 43,
   "id": "d6caddfa",
   "metadata": {},
   "outputs": [],
   "source": [
    "for string in customer_reviews:\n",
    "    if (re.search(pattern_to_find, string)):\n",
    "        imene_reviews.append(string)"
   ]
  },
  {
   "cell_type": "code",
   "execution_count": 44,
   "id": "43ef9222",
   "metadata": {},
   "outputs": [
    {
     "name": "stdout",
     "output_type": "stream",
     "text": [
      "['imene hate it']\n"
     ]
    }
   ],
   "source": [
    "print(imene_reviews)"
   ]
  },
  {
   "cell_type": "code",
   "execution_count": 45,
   "id": "357db33d",
   "metadata": {},
   "outputs": [],
   "source": [
    "a_reviews = []\n",
    "pattern_to_find = r\"^a\" #start with a \n",
    "for string in customer_reviews:\n",
    "    if (re.search(pattern_to_find, string)):\n",
    "        a_reviews.append(string)"
   ]
  },
  {
   "cell_type": "code",
   "execution_count": 46,
   "id": "c91bcf20",
   "metadata": {},
   "outputs": [
    {
     "name": "stdout",
     "output_type": "stream",
     "text": [
      "['ali like it']\n"
     ]
    }
   ],
   "source": [
    "print(a_reviews)"
   ]
  },
  {
   "cell_type": "code",
   "execution_count": 47,
   "id": "7eb8d74f",
   "metadata": {},
   "outputs": [],
   "source": [
    "t_reviews = []\n",
    "pattern_to_find = r\"t$\" #end with t\n",
    "for string in customer_reviews:\n",
    "    if (re.search(pattern_to_find, string)):\n",
    "        t_reviews.append(string)"
   ]
  },
  {
   "cell_type": "code",
   "execution_count": 48,
   "id": "e6f034f1",
   "metadata": {},
   "outputs": [
    {
     "name": "stdout",
     "output_type": "stream",
     "text": [
      "['ali like it', 'hicham love it', 'imene hate it']\n"
     ]
    }
   ],
   "source": [
    "print(t_reviews)"
   ]
  },
  {
   "cell_type": "code",
   "execution_count": 49,
   "id": "bbcf184a",
   "metadata": {},
   "outputs": [],
   "source": [
    "word_reviews = []\n",
    "pattern_to_find = r\"(lik|lov)e\" #find like and love\n",
    "for string in customer_reviews:\n",
    "    if (re.search(pattern_to_find, string)):\n",
    "        word_reviews.append(string)"
   ]
  },
  {
   "cell_type": "code",
   "execution_count": 50,
   "id": "21b85378",
   "metadata": {},
   "outputs": [
    {
     "name": "stdout",
     "output_type": "stream",
     "text": [
      "['ali like it', 'hicham love it']\n"
     ]
    }
   ],
   "source": [
    "print(word_reviews)"
   ]
  },
  {
   "cell_type": "code",
   "execution_count": 51,
   "id": "ef8473ab",
   "metadata": {},
   "outputs": [],
   "source": [
    "no_punct_reviews = []\n",
    "pattern_to_find = r\"[^\\w\\s]\" #we want to find someth that is not (^) a word (\\w) and not a space (\\s)\n",
    "for string in customer_reviews:\n",
    "    no_punc_string = re.sub(pattern_to_find, \"\", string)\n",
    "    no_punct_reviews.append(no_punc_string)"
   ]
  },
  {
   "cell_type": "code",
   "execution_count": 53,
   "id": "a0d441c8",
   "metadata": {},
   "outputs": [
    {
     "name": "stdout",
     "output_type": "stream",
     "text": [
      "['ali like it', 'hicham love it', 'imene hate it']\n"
     ]
    }
   ],
   "source": [
    "print(no_punct_reviews)"
   ]
  },
  {
   "cell_type": "code",
   "execution_count": null,
   "id": "2ebba0bd",
   "metadata": {},
   "outputs": [],
   "source": [
    " "
   ]
  }
 ],
 "metadata": {
  "kernelspec": {
   "display_name": "Python 3 (ipykernel)",
   "language": "python",
   "name": "python3"
  },
  "language_info": {
   "codemirror_mode": {
    "name": "ipython",
    "version": 3
   },
   "file_extension": ".py",
   "mimetype": "text/x-python",
   "name": "python",
   "nbconvert_exporter": "python",
   "pygments_lexer": "ipython3",
   "version": "3.10.9"
  }
 },
 "nbformat": 4,
 "nbformat_minor": 5
}
