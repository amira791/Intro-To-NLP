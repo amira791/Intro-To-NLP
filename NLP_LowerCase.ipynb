{
 "cells": [
  {
   "cell_type": "code",
   "execution_count": 2,
   "id": "3f6d7f48",
   "metadata": {},
   "outputs": [],
   "source": [
    "sentence = \"Hi i'm Amira\""
   ]
  },
  {
   "cell_type": "code",
   "execution_count": 3,
   "id": "9eec3223",
   "metadata": {},
   "outputs": [],
   "source": [
    "lower_sentence = sentence.lower()"
   ]
  },
  {
   "cell_type": "code",
   "execution_count": 4,
   "id": "60018fa4",
   "metadata": {},
   "outputs": [
    {
     "name": "stdout",
     "output_type": "stream",
     "text": [
      "hi i'm amira\n"
     ]
    }
   ],
   "source": [
    "print(lower_sentence)"
   ]
  },
  {
   "cell_type": "code",
   "execution_count": 6,
   "id": "85d68cea",
   "metadata": {},
   "outputs": [
    {
     "name": "stdout",
     "output_type": "stream",
     "text": [
      "hi my name is amira\n",
      "i study at esi\n",
      "i am computer science student\n"
     ]
    }
   ],
   "source": [
    "sentence_list = [\"Hi my name is Amira\", \"I study at ESI\", \"I am Computer Science Student\"]\n",
    "sentence_list_lower = [x.lower() for x in sentence_list]\n",
    "\n",
    "for sentence in sentence_list_lower:\n",
    "    print(sentence)"
   ]
  },
  {
   "cell_type": "code",
   "execution_count": null,
   "id": "fe40557c",
   "metadata": {},
   "outputs": [],
   "source": []
  }
 ],
 "metadata": {
  "kernelspec": {
   "display_name": "Python 3 (ipykernel)",
   "language": "python",
   "name": "python3"
  },
  "language_info": {
   "codemirror_mode": {
    "name": "ipython",
    "version": 3
   },
   "file_extension": ".py",
   "mimetype": "text/x-python",
   "name": "python",
   "nbconvert_exporter": "python",
   "pygments_lexer": "ipython3",
   "version": "3.10.9"
  }
 },
 "nbformat": 4,
 "nbformat_minor": 5
}
