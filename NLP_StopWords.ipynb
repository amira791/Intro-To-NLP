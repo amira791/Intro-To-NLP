{
 "cells": [
  {
   "cell_type": "code",
   "execution_count": 1,
   "id": "17862b42",
   "metadata": {},
   "outputs": [
    {
     "name": "stderr",
     "output_type": "stream",
     "text": [
      "[nltk_data] Downloading package stopwords to\n",
      "[nltk_data]     C:\\Users\\DELL\\AppData\\Roaming\\nltk_data...\n",
      "[nltk_data]   Unzipping corpora\\stopwords.zip.\n"
     ]
    }
   ],
   "source": [
    "import nltk \n",
    "nltk.download('stopwords')\n",
    "from nltk.corpus import stopwords"
   ]
  },
  {
   "cell_type": "code",
   "execution_count": 2,
   "id": "8e40ccc9",
   "metadata": {},
   "outputs": [],
   "source": [
    "eng_stopWords = stopwords.words('english')"
   ]
  },
  {
   "cell_type": "code",
   "execution_count": 3,
   "id": "7e82861b",
   "metadata": {},
   "outputs": [
    {
     "name": "stdout",
     "output_type": "stream",
     "text": [
      "['i', 'me', 'my', 'myself', 'we', 'our', 'ours', 'ourselves', 'you', \"you're\", \"you've\", \"you'll\", \"you'd\", 'your', 'yours', 'yourself', 'yourselves', 'he', 'him', 'his', 'himself', 'she', \"she's\", 'her', 'hers', 'herself', 'it', \"it's\", 'its', 'itself', 'they', 'them', 'their', 'theirs', 'themselves', 'what', 'which', 'who', 'whom', 'this', 'that', \"that'll\", 'these', 'those', 'am', 'is', 'are', 'was', 'were', 'be', 'been', 'being', 'have', 'has', 'had', 'having', 'do', 'does', 'did', 'doing', 'a', 'an', 'the', 'and', 'but', 'if', 'or', 'because', 'as', 'until', 'while', 'of', 'at', 'by', 'for', 'with', 'about', 'against', 'between', 'into', 'through', 'during', 'before', 'after', 'above', 'below', 'to', 'from', 'up', 'down', 'in', 'out', 'on', 'off', 'over', 'under', 'again', 'further', 'then', 'once', 'here', 'there', 'when', 'where', 'why', 'how', 'all', 'any', 'both', 'each', 'few', 'more', 'most', 'other', 'some', 'such', 'no', 'nor', 'not', 'only', 'own', 'same', 'so', 'than', 'too', 'very', 's', 't', 'can', 'will', 'just', 'don', \"don't\", 'should', \"should've\", 'now', 'd', 'll', 'm', 'o', 're', 've', 'y', 'ain', 'aren', \"aren't\", 'couldn', \"couldn't\", 'didn', \"didn't\", 'doesn', \"doesn't\", 'hadn', \"hadn't\", 'hasn', \"hasn't\", 'haven', \"haven't\", 'isn', \"isn't\", 'ma', 'mightn', \"mightn't\", 'mustn', \"mustn't\", 'needn', \"needn't\", 'shan', \"shan't\", 'shouldn', \"shouldn't\", 'wasn', \"wasn't\", 'weren', \"weren't\", 'won', \"won't\", 'wouldn', \"wouldn't\"]\n"
     ]
    }
   ],
   "source": [
    "print(eng_stopWords)"
   ]
  },
  {
   "cell_type": "code",
   "execution_count": 4,
   "id": "618faaac",
   "metadata": {},
   "outputs": [],
   "source": [
    "sentence = \"I am a cat and a fish\""
   ]
  },
  {
   "cell_type": "code",
   "execution_count": 7,
   "id": "811c7c9b",
   "metadata": {},
   "outputs": [],
   "source": [
    "sent_no_stopWords = ' '.join([word for word in sentence.split() if word not in eng_stopWords])"
   ]
  },
  {
   "cell_type": "code",
   "execution_count": 8,
   "id": "9c43541e",
   "metadata": {},
   "outputs": [
    {
     "name": "stdout",
     "output_type": "stream",
     "text": [
      "I cat fish\n"
     ]
    }
   ],
   "source": [
    "print(sent_no_stopWords)"
   ]
  },
  {
   "cell_type": "code",
   "execution_count": 9,
   "id": "b88f867a",
   "metadata": {},
   "outputs": [],
   "source": [
    "eng_stopWords.remove(\"and\")\n",
    "eng_stopWords.append(\"I\")"
   ]
  },
  {
   "cell_type": "code",
   "execution_count": 10,
   "id": "4fe71a5e",
   "metadata": {},
   "outputs": [],
   "source": [
    "sent_no_stopWords = ' '.join([word for word in sentence.split() if word not in eng_stopWords])"
   ]
  },
  {
   "cell_type": "code",
   "execution_count": 11,
   "id": "903c3be5",
   "metadata": {},
   "outputs": [
    {
     "name": "stdout",
     "output_type": "stream",
     "text": [
      "cat and fish\n"
     ]
    }
   ],
   "source": [
    "print(sent_no_stopWords)"
   ]
  },
  {
   "cell_type": "code",
   "execution_count": null,
   "id": "6e7127e6",
   "metadata": {},
   "outputs": [],
   "source": []
  }
 ],
 "metadata": {
  "kernelspec": {
   "display_name": "Python 3 (ipykernel)",
   "language": "python",
   "name": "python3"
  },
  "language_info": {
   "codemirror_mode": {
    "name": "ipython",
    "version": 3
   },
   "file_extension": ".py",
   "mimetype": "text/x-python",
   "name": "python",
   "nbconvert_exporter": "python",
   "pygments_lexer": "ipython3",
   "version": "3.10.9"
  }
 },
 "nbformat": 4,
 "nbformat_minor": 5
}
